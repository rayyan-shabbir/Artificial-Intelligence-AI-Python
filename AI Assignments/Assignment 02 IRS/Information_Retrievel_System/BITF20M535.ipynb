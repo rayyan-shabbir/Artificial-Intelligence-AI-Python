{
 "cells": [
  {
   "cell_type": "markdown",
   "metadata": {},
   "source": [
    "# Assignment 1 IRS"
   ]
  },
  {
   "cell_type": "markdown",
   "metadata": {},
   "source": [
    "Information retrieval is the process of obtaining information system resources that are relevant to an information need from a collection of those resources. The core purpose of this assignment is to give you the flavor of IRS. You need to follow some steps listed below and in the end, you'll be able to build your own small IRS. So, let's start."
   ]
  },
  {
   "cell_type": "code",
   "execution_count": null,
   "metadata": {},
   "outputs": [],
   "source": [
    "# required imports\n",
    "import numpy as np\n",
    "import fnmatch\n",
    "import os\n"
   ]
  },
  {
   "cell_type": "markdown",
   "metadata": {},
   "source": [
    "Suppose we have 3 files containing data :"
   ]
  },
  {
   "cell_type": "markdown",
   "metadata": {},
   "source": [
    "### File Contents"
   ]
  },
  {
   "cell_type": "markdown",
   "metadata": {},
   "source": [
    "<img src=\"1.png\"/>\n",
    "<img src=\"2.png\"/>\n",
    "<img src=\"3.png\"/>"
   ]
  },
  {
   "cell_type": "markdown",
   "metadata": {},
   "source": [
    "# Step 1 Create Files with Dummy data"
   ]
  },
  {
   "cell_type": "markdown",
   "metadata": {},
   "source": [
    "You have to create few files with dummy data of your own choice as shown above."
   ]
  },
  {
   "cell_type": "code",
   "execution_count": null,
   "metadata": {},
   "outputs": [],
   "source": [
    "# STEP-01 :: CREATE FILE WITH DUMMY DATA\n",
    "try: \n",
    "    fhand = open(\"ray1.txt\", \"w\")\n",
    "    fhand.write(\"I love Pakistan\\nI love love\")\n",
    "\n",
    "    fhand = open(\"ray2.txt\", \"w\")\n",
    "    fhand.write(\"I love Cricket\")\n",
    "\n",
    "    fhand = open(\"ray3.txt\", \"w\")\n",
    "    fhand.write(\"Pakistan Cricket Team\")\n",
    "\n",
    "    fhand = open(\"ray4.txt\", \"w\")\n",
    "    fhand.write(\"I LOVE PUCIT\\nI love pucit\")\n",
    "except:\n",
    "    print(\"Dummy Files are not created, SORRY...\")\n",
    "    exit(0)\n",
    "\n",
    "# We can also create multiple files at once\n",
    "# for i in range(5):\n",
    "#     fileName = \"rayy\" + str((i+1)) + \".txt\"\n",
    "#     fhand = open(fileName, \"w\")"
   ]
  },
  {
   "cell_type": "markdown",
   "metadata": {},
   "source": [
    "# Step 2 Traverse Directories"
   ]
  },
  {
   "cell_type": "markdown",
   "metadata": {},
   "source": [
    " Now, You have to traverse the directories and store all the files into a dict type variable(files_dict). "
   ]
  },
  {
   "cell_type": "code",
   "execution_count": null,
   "metadata": {},
   "outputs": [],
   "source": [
    "# Here we have intialized some variables, you can add more if required.\n",
    "\n",
    "file_count = 0            # file_count to count number of files\n",
    "files_dict = {}            # files_dic to store count of every file    \n",
    "unique_word_set = set()    # unique_word_set to store all the unique words in a set\n"
   ]
  },
  {
   "cell_type": "code",
   "execution_count": null,
   "metadata": {},
   "outputs": [],
   "source": [
    "#Your code starts here   \n",
    "\n",
    "count = 0\n",
    "\n",
    "for i in range(4):\n",
    "    fname = \"ray\"+str((i+1))+\".txt\"\n",
    "    files_dict[fname] = count\n",
    "    count += 1\n",
    "\n",
    "file_count = len(files_dict)\n",
    "print(\"\\nTotal Number  of files::\", file_count)\n",
    "\n",
    "print(\"\\nDictionary containing  files\\n\", files_dict)\n",
    "\n",
    "#Your code ends here         "
   ]
  },
  {
   "cell_type": "markdown",
   "metadata": {},
   "source": [
    "Displaying the count of files."
   ]
  },
  {
   "cell_type": "code",
   "execution_count": null,
   "metadata": {},
   "outputs": [],
   "source": [
    "print(\"\\nTotal Number  of files\\n\", file_count)"
   ]
  },
  {
   "cell_type": "markdown",
   "metadata": {},
   "source": [
    "Displaying Dictionary containing all files."
   ]
  },
  {
   "cell_type": "code",
   "execution_count": null,
   "metadata": {},
   "outputs": [],
   "source": [
    "print(\"\\nDictionary containing  files\\n\", files_dict)"
   ]
  },
  {
   "cell_type": "markdown",
   "metadata": {},
   "source": [
    "# Step 3 Extract Unique Vocabulary"
   ]
  },
  {
   "cell_type": "code",
   "execution_count": null,
   "metadata": {},
   "outputs": [],
   "source": [
    "# write code to print all the unique words in every file and store them in a set"
   ]
  },
  {
   "cell_type": "code",
   "execution_count": null,
   "metadata": {},
   "outputs": [],
   "source": [
    "#Your code starts here    \n",
    "\n",
    "for i in range(file_count):\n",
    "    fhand = open(\"ray\"+str((i+1))+\".txt\")\n",
    "    unique_word_set.update(fhand.read().upper().split(\" \"))\n",
    "\n",
    "print(\"Unique words in files:\",unique_word_set)\n",
    "\n",
    "print(\"\\nCount of files:\", file_count)\n",
    "print(\"\\n\")\n",
    "# for word in unique_word_set:\n",
    "#     print(word)\n",
    "\n",
    "#Your code ends here"
   ]
  },
  {
   "cell_type": "markdown",
   "metadata": {},
   "source": [
    "### Expected Output"
   ]
  },
  {
   "cell_type": "markdown",
   "metadata": {},
   "source": [
    "<img src=\"4.png\"/>"
   ]
  },
  {
   "cell_type": "markdown",
   "metadata": {},
   "source": [
    "# Step 4 Create Term Document Matrix"
   ]
  },
  {
   "cell_type": "markdown",
   "metadata": {},
   "source": [
    "Create Term-Doc-matrix using Bag of word approach.and display its contents initially and finally."
   ]
  },
  {
   "cell_type": "code",
   "execution_count": null,
   "metadata": {},
   "outputs": [],
   "source": [
    "# Create Term doc matrix such that colmns will be unique words and all the files will be rows\n",
    "# Write code to count all the unique words appearances in all the files and store it in a dictionary for words "
   ]
  },
  {
   "cell_type": "code",
   "execution_count": null,
   "metadata": {},
   "outputs": [],
   "source": [
    "#Your code starts here    \n",
    "\n",
    "def unique_word(fname, dic):\n",
    "    fhand = open(fname)\n",
    "    for line in fhand:\n",
    "        words = line.upper().split()\n",
    "        for word in words:\n",
    "            cnt = dic.get(word, 0)\n",
    "            dic[word] = cnt + 1\n",
    "\n",
    "\n",
    "unique_word_dict = dict()\n",
    "\n",
    "for i in range(file_count):\n",
    "    fname = \"ray\"+str((i+1))+\".txt\"\n",
    "    unique_word(fname, unique_word_dict)\n",
    "\n",
    "\n",
    "Term_Document_Matrix = np.zeros((file_count, len(unique_word_dict)))\n",
    "\n",
    "print(\"TERM DOC MATRIX initially\\n\", Term_Document_Matrix)\n",
    "\n",
    "print(\"\\nDictionery of unique words\\n\", unique_word_dict)\n",
    "\n",
    "print(\"\\nDictionery of files\\n\", files_dict)\n",
    "\n",
    "#Your code ends here"
   ]
  },
  {
   "cell_type": "markdown",
   "metadata": {},
   "source": [
    "### Expected Output"
   ]
  },
  {
   "cell_type": "markdown",
   "metadata": {},
   "source": [
    "<img src=\"5.png\"/>"
   ]
  },
  {
   "cell_type": "markdown",
   "metadata": {},
   "source": [
    "# Step 5 Fill Term Document Matrix"
   ]
  },
  {
   "cell_type": "code",
   "execution_count": null,
   "metadata": {},
   "outputs": [],
   "source": [
    "# Fill the term doc matrix by checking if the unique word exists in a file or not\n",
    "# If it exists then substitute a 1 in term_doc_matrix (eg : TERM_DOC_MATRIX[file][word] = 1 ) \n",
    "# Do the same for all the files present in the directory"
   ]
  },
  {
   "cell_type": "code",
   "execution_count": null,
   "metadata": {},
   "outputs": [],
   "source": [
    "#Your code starts here    \n",
    "\n",
    "k = 0\n",
    "\n",
    "for i in range(file_count):\n",
    "    fname = \"ray\"+str((i+1))+\".txt\"\n",
    "    fhand = open(fname)\n",
    "    k = 0\n",
    "    for word in fhand.read().upper().split():\n",
    "        k = 0\n",
    "        for uw in unique_word_dict:\n",
    "            if uw == word:\n",
    "                Term_Document_Matrix[i][k] = 1\n",
    "            k += 1\n",
    "\n",
    "\n",
    "print(\"\\nTerm Document Matrix after filling\\n\", Term_Document_Matrix)\n",
    "print(\"\\n\")\n",
    "\n",
    "#Your code ends here"
   ]
  },
  {
   "cell_type": "markdown",
   "metadata": {},
   "source": [
    "### Expected Output"
   ]
  },
  {
   "cell_type": "markdown",
   "metadata": {},
   "source": [
    "<img src=\"6.png\"/>"
   ]
  },
  {
   "cell_type": "markdown",
   "metadata": {},
   "source": [
    "# Step 6 Ask for a user Query"
   ]
  },
  {
   "cell_type": "code",
   "execution_count": null,
   "metadata": {},
   "outputs": [],
   "source": [
    "# For user query make a column vector of length of all the unique words present in a set"
   ]
  },
  {
   "cell_type": "code",
   "execution_count": null,
   "metadata": {},
   "outputs": [],
   "source": [
    "#Your code starts here  \n",
    "\n",
    "query_vector = np.zeros((len(unique_word_dict), 1))\n",
    "\n",
    "print(\"\\nQuery Vector Initially\\n\", query_vector)\n",
    "\n",
    "# print(len(query_vector))\n",
    "# print(len(unique_word_dict))\n",
    "\n",
    "#Your code ends here"
   ]
  },
  {
   "cell_type": "markdown",
   "metadata": {},
   "source": [
    "### Expected Output"
   ]
  },
  {
   "cell_type": "markdown",
   "metadata": {},
   "source": [
    "<img src=\"7.png\"/>"
   ]
  },
  {
   "cell_type": "code",
   "execution_count": null,
   "metadata": {},
   "outputs": [],
   "source": [
    "query = input(\"\\nWrite something for searching  \")\n",
    "# Check every word of query if it exists in the set of unique words or not\n",
    "# If exixts then increment the count of that word in word dictionary\n"
   ]
  },
  {
   "cell_type": "code",
   "execution_count": null,
   "metadata": {},
   "outputs": [],
   "source": [
    "#Your code starts here    \n",
    "\n",
    "j = 0\n",
    "for q in query.upper().split():\n",
    "    j = 0\n",
    "    for uw in unique_word_dict:\n",
    "        if q == uw:\n",
    "            query_vector[j][0] += 1\n",
    "            # unique_word_dict[uw] += 1\n",
    "        j += 1\n",
    "\n",
    "print(\"\\nQuery Vector after filling\\n\", query_vector)\n",
    "\n",
    "#Your code ends here"
   ]
  },
  {
   "cell_type": "markdown",
   "metadata": {},
   "source": [
    "### Expected Output"
   ]
  },
  {
   "cell_type": "markdown",
   "metadata": {},
   "source": [
    "<img src=\"8.png\"/>"
   ]
  },
  {
   "cell_type": "markdown",
   "metadata": {},
   "source": [
    "# Step 7 Display Resultant Vector"
   ]
  },
  {
   "cell_type": "markdown",
   "metadata": {},
   "source": [
    "Display \n",
    "1. Resultant vector.\n",
    "2. Max value in resultant vector.\n",
    "3. Index of max value in resultant vector.\n"
   ]
  },
  {
   "cell_type": "code",
   "execution_count": null,
   "metadata": {},
   "outputs": [],
   "source": [
    "#Your code starts here  \n",
    "\n",
    "resultant_matrix = np.dot(Term_Document_Matrix, query_vector)\n",
    "\n",
    "print(\"\\nResultant/Rank Matrix\\n\", resultant_matrix)\n",
    "\n",
    "# # print(np.amax(query_vector))\n",
    "print(\"\\nMaximum in resultant is \", np.amax(resultant_matrix))\n",
    "\n",
    "# # print(np.argmax(query_vector))\n",
    "print(\"\\nIndex of Maximum in resultant is \", np.argmax(resultant_matrix))\n",
    "\n",
    "#Your code ends here"
   ]
  },
  {
   "cell_type": "markdown",
   "metadata": {},
   "source": [
    "### Expected Output"
   ]
  },
  {
   "cell_type": "markdown",
   "metadata": {},
   "source": [
    "<img src=\"9.png\"/>"
   ]
  },
  {
   "cell_type": "markdown",
   "metadata": {},
   "source": [
    "# Step 8 Display the contents of file\n"
   ]
  },
  {
   "cell_type": "code",
   "execution_count": null,
   "metadata": {},
   "outputs": [],
   "source": [
    "#Write the code to identify the file_name having maximum value in the resultant vector and display its contents."
   ]
  },
  {
   "cell_type": "code",
   "execution_count": null,
   "metadata": {},
   "outputs": [],
   "source": [
    "#Your code starts here    \n",
    "\n",
    "print(\"\\nContents of File\\n\")\n",
    "flag = True\n",
    "\n",
    "index = np.where(resultant_matrix == np.amax(resultant_matrix))\n",
    "\n",
    "if np.amax(resultant_matrix) == 0:\n",
    "    flag = False\n",
    "    \n",
    "if flag == False:\n",
    "    print(\"No file with such query Found \")\n",
    "else:\n",
    "    # i = 1\n",
    "    # for iterav in resultant_matrix:\n",
    "    #     if np.amax(resultant_matrix) == iterav:\n",
    "    #         fn = \"ray\" + str(i) + \".txt\"\n",
    "    #     i += 1\n",
    "\n",
    "    filename = \"ray\" + str(index[0][0]+1) + \".txt\"\n",
    "\n",
    "    print(\"File Name with Query founded::\", filename)   \n",
    "    fhand = open(filename)\n",
    "    print(\"Content::\",fhand.read())\n",
    "\n",
    "#Your code ends here"
   ]
  },
  {
   "cell_type": "markdown",
   "metadata": {},
   "source": [
    "Congratulations Now you are able to build your own small IRS."
   ]
  }
 ],
 "metadata": {
  "kernelspec": {
   "display_name": "Python 3 (ipykernel)",
   "language": "python",
   "name": "python3"
  },
  "language_info": {
   "codemirror_mode": {
    "name": "ipython",
    "version": 3
   },
   "file_extension": ".py",
   "mimetype": "text/x-python",
   "name": "python",
   "nbconvert_exporter": "python",
   "pygments_lexer": "ipython3",
   "version": "3.9.13"
  }
 },
 "nbformat": 4,
 "nbformat_minor": 4
}
